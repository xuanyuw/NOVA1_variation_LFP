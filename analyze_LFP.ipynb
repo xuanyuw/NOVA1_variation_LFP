{
  "nbformat": 4,
  "nbformat_minor": 0,
  "metadata": {
    "colab": {
      "name": "analyze_LFP.ipynb",
      "provenance": [],
      "collapsed_sections": [
        "cYrFiNqAvizL"
      ],
      "include_colab_link": true
    },
    "kernelspec": {
      "name": "python3",
      "display_name": "Python 3"
    }
  },
  "cells": [
    {
      "cell_type": "markdown",
      "metadata": {
        "id": "view-in-github",
        "colab_type": "text"
      },
      "source": [
        "<a href=\"https://colab.research.google.com/github/xuanyuw/NOVA1_variation_LFP/blob/main/analyze_LFP.ipynb\" target=\"_parent\"><img src=\"https://colab.research.google.com/assets/colab-badge.svg\" alt=\"Open In Colab\"/></a>"
      ]
    },
    {
      "cell_type": "code",
      "metadata": {
        "colab": {
          "base_uri": "https://localhost:8080/"
        },
        "id": "bo0y4FEigGns",
        "outputId": "7befbf61-f26a-4856-d3cf-2fdcdbe18ea4"
      },
      "source": [
        "from google.colab import drive\n",
        "drive.mount('/content/drive/')"
      ],
      "execution_count": 1,
      "outputs": [
        {
          "output_type": "stream",
          "text": [
            "Mounted at /content/drive/\n"
          ],
          "name": "stdout"
        }
      ]
    },
    {
      "cell_type": "code",
      "metadata": {
        "id": "pzHHKVphhqPR"
      },
      "source": [
        "from scipy.io import loadmat\r\n",
        "import glob\r\n",
        "import h5py\r\n",
        "import numpy as np\r\n",
        "import matplotlib.pyplot as plt"
      ],
      "execution_count": 2,
      "outputs": []
    },
    {
      "cell_type": "code",
      "metadata": {
        "id": "45AWmi66bhK7"
      },
      "source": [
        "nova_fns = sorted([mat for mat in glob.glob('/content/drive/My Drive/NOVA1_LFP/NOVA1/44-136_LFP/*.mat')])\r\n",
        "ctc_fns = ['/content/drive/My Drive/NOVA1_LFP/CTC/'+ fn for fn in ['LFP_Sp_010617.mat', 'LFP_Sp_011317.mat', 'LFP_Sp_012717.mat', 'LFP_Sp_022417.mat']]\r\n",
        "nova_files = [h5py.File(fn, 'r') for fn in nova_fns]\r\n",
        "ctc_files = [h5py.File(fn, 'r') for fn in ctc_fns]"
      ],
      "execution_count": 3,
      "outputs": []
    },
    {
      "cell_type": "code",
      "metadata": {
        "colab": {
          "base_uri": "https://localhost:8080/"
        },
        "id": "l-h-a3GG8mkX",
        "outputId": "900fb77a-6844-49ef-d574-846a2bedceca"
      },
      "source": [
        "nova_fns"
      ],
      "execution_count": 16,
      "outputs": [
        {
          "output_type": "execute_result",
          "data": {
            "text/plain": [
              "['/content/drive/My Drive/NOVA1_LFP/NOVA1/44-136_LFP/LFP_Sp_012119.mat',\n",
              " '/content/drive/My Drive/NOVA1_LFP/NOVA1/44-136_LFP/LFP_Sp_013019.mat',\n",
              " '/content/drive/My Drive/NOVA1_LFP/NOVA1/44-136_LFP/LFP_Sp_021219.mat',\n",
              " '/content/drive/My Drive/NOVA1_LFP/NOVA1/44-136_LFP/LFP_Sp_031119.mat']"
            ]
          },
          "metadata": {
            "tags": []
          },
          "execution_count": 16
        }
      ]
    },
    {
      "cell_type": "code",
      "metadata": {
        "colab": {
          "base_uri": "https://localhost:8080/"
        },
        "id": "Had6iM_x8pZO",
        "outputId": "27ed534e-7c40-4bbe-8c65-1685b437b216"
      },
      "source": [
        "ctc_fns"
      ],
      "execution_count": 17,
      "outputs": [
        {
          "output_type": "execute_result",
          "data": {
            "text/plain": [
              "['/content/drive/My Drive/NOVA1_LFP/CTC/LFP_Sp_010617.mat',\n",
              " '/content/drive/My Drive/NOVA1_LFP/CTC/LFP_Sp_011317.mat',\n",
              " '/content/drive/My Drive/NOVA1_LFP/CTC/LFP_Sp_012717.mat',\n",
              " '/content/drive/My Drive/NOVA1_LFP/CTC/LFP_Sp_022417.mat']"
            ]
          },
          "metadata": {
            "tags": []
          },
          "execution_count": 17
        }
      ]
    },
    {
      "cell_type": "code",
      "metadata": {
        "id": "7LCXTd7e-5je"
      },
      "source": [
        "fs_orig = 12500\n",
        "num_channels = 64\n",
        "num_wells = 12\n",
        "#fn = '/content/drive/My Drive/NOVA1_LFP/NOVA1/44-136_LFP/LFP_Sp_013019.mat'\n",
        "# file = h5py.File(fn, 'r')\n",
        "# lfp = np.array(file['LFP']).flatten()\n",
        "# fs_ds = np.array(file['fs_ds'])[0]\n",
        "#spike_avg = np.array(file['spike_avg'])\n",
        "#spikes = np.array(file['spikes'])\n",
        "#spike_cnt = np.array(file['spike_cnt'])\n"
      ],
      "execution_count": 4,
      "outputs": []
    },
    {
      "cell_type": "code",
      "metadata": {
        "colab": {
          "base_uri": "https://localhost:8080/"
        },
        "id": "wzAYhYEMumqk",
        "outputId": "0cc35aee-5527-4755-f4a1-309fbf26ab26"
      },
      "source": [
        "events = []\r\n",
        "all_event_spks = []\r\n",
        "fs_orig = fs_orig\r\n",
        "event_start=-0.5\r\n",
        "event_end=2.5\r\n",
        "channel_id = 0\r\n",
        "well_id = 1\r\n",
        "file = nova_files[0]\r\n",
        "lfp = file[np.array(file['LFP']).flatten()[channel_id]][well_id]\r\n",
        "spikes = np.array(file['spikes'])\r\n",
        "spks = np.array(file[spikes[channel_id, well_id]]).flatten()\r\n",
        "spks = (spks*fs_ds/fs_orig).astype('int') #convert index according to down-sampled sampling rate\r\n",
        "# spk_vals = [lfp[spk] for spk in spks]\r\n",
        "# spks_new = spks[spk_vals > 0.8*np.max(spk_vals)]\r\n",
        "fs = np.array(file['fs_ds'])[0]\r\n",
        "for spk in spks:\r\n",
        "  start = int(event_start * fs + int(spk*fs/fs_orig))\r\n",
        "  end = int(event_end * fs + int(spk*fs/fs_orig))\r\n",
        "  event_spks = spks[np.logical_and(spks>start, spks<end)]\r\n",
        "  if len(event_spks)>=3:\r\n",
        "    events.append(range(start, end))\r\n",
        "    all_event_spks.append(event_spks)\r\n",
        "len(events)\r\n"
      ],
      "execution_count": null,
      "outputs": [
        {
          "output_type": "execute_result",
          "data": {
            "text/plain": [
              "19"
            ]
          },
          "metadata": {
            "tags": []
          },
          "execution_count": 153
        }
      ]
    },
    {
      "cell_type": "markdown",
      "metadata": {
        "id": "S75FxF3ntGGg"
      },
      "source": [
        "## Spiking rate"
      ]
    },
    {
      "cell_type": "code",
      "metadata": {
        "id": "K-EW-7LZ56HR"
      },
      "source": [
        "def calc_spk_rate(file):\r\n",
        "  total_spks = np.array(file['spike_cnt']).sum()\r\n",
        "  total_time = max(file['t_s'][0])\r\n",
        "  return total_spks/total_time\r\n",
        "\r\n",
        "sr_nova = [calc_spk_rate(file) for file in nova_files]\r\n",
        "sr_ctc = [calc_spk_rate(file) for file in ctc_files]"
      ],
      "execution_count": 13,
      "outputs": []
    },
    {
      "cell_type": "code",
      "metadata": {
        "colab": {
          "base_uri": "https://localhost:8080/"
        },
        "id": "SGsnHF2R8HzP",
        "outputId": "649ffd0d-3485-4df2-af8e-05c285eb10b2"
      },
      "source": [
        "sr_nova"
      ],
      "execution_count": 14,
      "outputs": [
        {
          "output_type": "execute_result",
          "data": {
            "text/plain": [
              "[246.78849097139295, 406.6555249031434, 368.270134774715, 377.7564001136399]"
            ]
          },
          "metadata": {
            "tags": []
          },
          "execution_count": 14
        }
      ]
    },
    {
      "cell_type": "code",
      "metadata": {
        "colab": {
          "base_uri": "https://localhost:8080/",
          "height": 297
        },
        "id": "iTtN6er276QH",
        "outputId": "1c4b151f-821f-4fde-9480-e5342eb18f38"
      },
      "source": [
        "plt.plot(sr_nova, label='nova1')\r\n",
        "plt.plot(sr_ctc, label='wild')\r\n",
        "plt.xticks(labels=['Week0','Week1','Week3','Week7'], ticks=range(4))\r\n",
        "plt.legend(loc='best')\r\n",
        "plt.title('Spiking rate of nova1 variant and wild type')"
      ],
      "execution_count": 15,
      "outputs": [
        {
          "output_type": "execute_result",
          "data": {
            "text/plain": [
              "Text(0.5, 1.0, 'Spiking rate of nova1 variant and wild type')"
            ]
          },
          "metadata": {
            "tags": []
          },
          "execution_count": 15
        },
        {
          "output_type": "display_data",
          "data": {
            "image/png": "[encoded data removed]",
            "text/plain": [
              "<Figure size 432x288 with 1 Axes>"
            ]
          },
          "metadata": {
            "tags": [],
            "needs_background": "light"
          }
        }
      ]
    },
    {
      "cell_type": "markdown",
      "metadata": {
        "id": "P1bY4oXptMB3"
      },
      "source": [
        "## Average Spike"
      ]
    },
    {
      "cell_type": "code",
      "metadata": {
        "id": "uAT64gqG84I2"
      },
      "source": [
        ""
      ],
      "execution_count": null,
      "outputs": []
    },
    {
      "cell_type": "code",
      "metadata": {
        "id": "qXM5wo0184S-"
      },
      "source": [
        ""
      ],
      "execution_count": null,
      "outputs": []
    },
    {
      "cell_type": "code",
      "metadata": {
        "id": "4W0nITXx84Vv"
      },
      "source": [
        ""
      ],
      "execution_count": null,
      "outputs": []
    },
    {
      "cell_type": "code",
      "metadata": {
        "id": "-SQ_cwrG84Yl"
      },
      "source": [
        ""
      ],
      "execution_count": null,
      "outputs": []
    },
    {
      "cell_type": "code",
      "metadata": {
        "id": "79WEgFxp84b2"
      },
      "source": [
        ""
      ],
      "execution_count": null,
      "outputs": []
    },
    {
      "cell_type": "code",
      "metadata": {
        "id": "5kQOtdnA84eu"
      },
      "source": [
        ""
      ],
      "execution_count": null,
      "outputs": []
    },
    {
      "cell_type": "code",
      "metadata": {
        "id": "P1Rv8KO784gn"
      },
      "source": [
        ""
      ],
      "execution_count": null,
      "outputs": []
    },
    {
      "cell_type": "markdown",
      "metadata": {
        "id": "GUp_5vAYtPVu"
      },
      "source": [
        "## Spike Shape"
      ]
    },
    {
      "cell_type": "markdown",
      "metadata": {
        "id": "IAK0VP858ftD"
      },
      "source": [
        "## CV (quantify network complexity)\r\n",
        "\r\n",
        "The inter-event interval coefficient of variation (IEI CV) was calculated as the standard deviation of the inter-event interval divided by its mean, where IEI is the time\r\n",
        "between consecutive network events within the same MEA well."
      ]
    },
    {
      "cell_type": "code",
      "metadata": {
        "id": "aEirtVoipone"
      },
      "source": [
        "def extract_events(well_id, channel_id, file, fs_orig = fs_orig, event_start=-0.5, event_end=2.5):\r\n",
        "  \"\"\"extract index of events from arr\"\"\"\r\n",
        "  events = []\r\n",
        "  events_t0 = []\r\n",
        "  spikes = np.array(file['spikes'])\r\n",
        "  spks = np.array(file[spikes[channel_id, well_id]]).flatten()\r\n",
        "  spks = (spks*fs_ds/fs_orig).astype('int') #convert index according to down-sampled sampling rate\r\n",
        "  fs = np.array(file['fs_ds'])[0]\r\n",
        "  for spk in spks:\r\n",
        "    start = int(event_start * fs + int(spk*fs/fs_orig))\r\n",
        "    end = int(event_end * fs + int(spk*fs/fs_orig))\r\n",
        "    event_spks = spks[np.logical_and(spks>start, spks<end)]\r\n",
        "    if len(events) == 0:\r\n",
        "      condition = len(event_spks)>=3 \r\n",
        "    else:\r\n",
        "      dist = spk - max(events[-1])\r\n",
        "      condition = len(event_spks)>=3 and dist > fs\r\n",
        "    if condition:\r\n",
        "        events.append(range(start, end))\r\n",
        "        events_t0.append(spk)\r\n",
        "  return events, events_t0"
      ],
      "execution_count": null,
      "outputs": []
    },
    {
      "cell_type": "code",
      "metadata": {
        "id": "-nKv6bDJ8jjw"
      },
      "source": [
        "\r\n",
        "def calculate_iei_cv(file, fs_orig=fs_orig, num_channels=num_channels, num_wells=num_wells):\r\n",
        "  all_cv = []\r\n",
        "  for i in range(num_wells):\r\n",
        "    iei = []\r\n",
        "    #print(i)\r\n",
        "    for j in range(num_channels):\r\n",
        "      _, events_t0 = extract_events(i, j, file)\r\n",
        "      iei.append(np.diff(events_t0).flatten())\r\n",
        "    if len(iei)>0:\r\n",
        "      iei = np.hstack(iei)\r\n",
        "      iei = iei/fs_orig\r\n",
        "      iei_mean = np.mean(iei)\r\n",
        "      iei_std = np.std(iei)\r\n",
        "      all_cv.append(iei_std/iei_mean)\r\n",
        "    else:\r\n",
        "      all_cv.append(np.nan)\r\n",
        "  return all_cv\r\n",
        "\r\n",
        "nova_cv = [calculate_iei_cv(file) for file in nova_files]\r\n",
        "ctc_cv = [calculate_iei_cv(file) for file in ctc_files]"
      ],
      "execution_count": null,
      "outputs": []
    },
    {
      "cell_type": "code",
      "metadata": {
        "id": "URYlMFw6pSJN"
      },
      "source": [
        "nova_mean_cv = [np.nanmean(cv) for cv in nova_cv]\r\n",
        "ctc_mean_cv = [np.nanmean(cv) for cv in ctc_cv]\r\n",
        "print(nova_mean_cv)\r\n",
        "print(ctc_mean_cv)\r\n",
        "print(np.array(ctc_mean_cv) - np.array(nova_mean_cv))"
      ],
      "execution_count": null,
      "outputs": []
    },
    {
      "cell_type": "code",
      "metadata": {
        "id": "aQaSOCFInld0"
      },
      "source": [
        "plt.plot(nova_mean_cv, label='nova1')\r\n",
        "plt.plot(ctc_mean_cv, label='wild')\r\n",
        "plt.plot(np.array(ctc_mean_cv) - np.array(nova_mean_cv), label='difference')\r\n",
        "plt.xticks(labels=['Week0','Week1','Week3','Week7'], ticks=range(4))\r\n",
        "plt.legend(loc='best')\r\n",
        "plt.title('mean CV of nova1 variant and wild type')"
      ],
      "execution_count": null,
      "outputs": []
    },
    {
      "cell_type": "code",
      "metadata": {
        "id": "XFi21Fv8tGmM"
      },
      "source": [
        "import statistics\r\n",
        "nova_median_cv = [statistics.median(cv) for cv in nova_cv]\r\n",
        "ctc_median_cv = [statistics.median(cv) for cv in ctc_cv]\r\n",
        "print(nova_median_cv)\r\n",
        "print(ctc_median_cv)\r\n",
        "print(np.array(ctc_median_cv) - np.array(nova_median_cv))"
      ],
      "execution_count": null,
      "outputs": []
    },
    {
      "cell_type": "code",
      "metadata": {
        "id": "hRA2SPaBsYrU"
      },
      "source": [
        "plt.plot(nova_median_cv, label='nova1')\r\n",
        "plt.plot(ctc_median_cv, label='wild')\r\n",
        "plt.plot(np.array(ctc_median_cv) - np.array(nova_median_cv), label='difference')\r\n",
        "plt.xticks(labels=['Week0','Week1','Week3','Week7'], ticks=range(4))\r\n",
        "plt.legend(loc='best')\r\n",
        "plt.title('median CV of nova1 variant and wild type')"
      ],
      "execution_count": null,
      "outputs": []
    },
    {
      "cell_type": "code",
      "metadata": {
        "id": "CCOEULoQprxU"
      },
      "source": [
        ""
      ],
      "execution_count": null,
      "outputs": []
    },
    {
      "cell_type": "markdown",
      "metadata": {
        "id": "Eatl_RTbYX23"
      },
      "source": [
        "## LFP Trace"
      ]
    },
    {
      "cell_type": "code",
      "metadata": {
        "id": "EYCj4nMVbVkH"
      },
      "source": [
        ""
      ],
      "execution_count": null,
      "outputs": []
    },
    {
      "cell_type": "markdown",
      "metadata": {
        "id": "welQYrT-LgLs"
      },
      "source": [
        "## PAC\r\n",
        "\r\n",
        "1. LFP data from all 64 channels of each well was first lowpass/bandpass filtered (eegfilt.m, EEGLAB) for delta (0-4 Hz) and high-frequency, broadband (100-400 Hz) activity\r\n",
        "\r\n",
        "2. Delta phase was extracted by taking the phase\r\n",
        "angle of the bandpassed delta signal Hilbert transform (hilbert.m, angle.m), while gamma power was extracted by taking the squared\r\n",
        "magnitude of the filtered gamma.\r\n",
        "\r\n",
        "3. Analysis was performed for 100-200 Hz and 200-400 Hz separately\r\n",
        "\r\n",
        "4. instantaneous delta phase was binned into 20 equidistant bins between -pi and pi,\r\n",
        "and gamma power was sorted based on the corresponding delta phase at the same sample time and averaged across the same\r\n",
        "phase bin\r\n",
        "\r\n",
        "5. This procedure was performed separately for event and non-event indices\r\n",
        "\r\n",
        "6. Modulation Index was\r\n",
        "computed as the Kullback-Leibler divergence between the sum-normalized distribution of gamma power across phase bins and a\r\n",
        "uniform distribution\r\n"
      ]
    },
    {
      "cell_type": "code",
      "metadata": {
        "id": "c7tW5Y2B3vI_"
      },
      "source": [
        ""
      ],
      "execution_count": null,
      "outputs": []
    },
    {
      "cell_type": "code",
      "metadata": {
        "id": "nNxN-FoO2Svt"
      },
      "source": [
        "file=ctc_files[0]\r\n",
        "lfp = np.array(file['LFP']).flatten()\r\n",
        "events = extract_events(10,0,ctc_files[0])\r\n",
        "range(len(np.array(file[lfp[0]]))) not in events"
      ],
      "execution_count": null,
      "outputs": []
    },
    {
      "cell_type": "code",
      "metadata": {
        "colab": {
          "base_uri": "https://localhost:8080/"
        },
        "id": "BA9L3row2y72",
        "outputId": "3361a03c-1f57-4e37-9c21-e6d03893a6cb"
      },
      "source": [
        "file=ctc_files[0]\r\n",
        "spikes = np.array(file['spikes'])\r\n",
        "np.array(file[spikes[0, 10]]).flatten()"
      ],
      "execution_count": null,
      "outputs": [
        {
          "output_type": "execute_result",
          "data": {
            "text/plain": [
              "array([1.800000e+01, 1.874000e+03, 2.553000e+03, ..., 2.902146e+06,\n",
              "       2.905947e+06, 2.912825e+06])"
            ]
          },
          "metadata": {
            "tags": []
          },
          "execution_count": 80
        }
      ]
    },
    {
      "cell_type": "code",
      "metadata": {
        "id": "TB6iFI0s8jpJ"
      },
      "source": [
        "# define bandpass filters borrowed from UCSD COGS189WI21 A1 starter code\r\n",
        "from scipy.signal import butter, sosfiltfilt, sosfreqz, hilbert\r\n",
        "def butter_bandpass(lowcut, highcut, fs, order = 2):\r\n",
        "  nyq = 0.5 * fs\r\n",
        "  low = lowcut/nyq\r\n",
        "  high = highcut/nyq\r\n",
        "  sos = butter(order, [low, high], analog=False, btype='band', output='sos')\r\n",
        "  return sos\r\n",
        "def butter_bandpass_filter(data, lowcut, highcut, fs, order=2):\r\n",
        "  sos = butter_bandpass(lowcut, highcut, fs, order=order)\r\n",
        "  y = sosfiltfilt(sos, data)\r\n",
        "  return y\r\n"
      ],
      "execution_count": null,
      "outputs": []
    },
    {
      "cell_type": "code",
      "metadata": {
        "id": "FuEVCHcn8jtR"
      },
      "source": [
        "# bandpass all 64 channels to get delta and gamma\r\n",
        "t = np.array(file[lfp[0]])\r\n",
        "delta = butter_bandpass_filter(t, 0.1, 4, fs_ds)\r\n",
        "gamma1 = butter_bandpass_filter(t, 100, 200, fs_ds)\r\n",
        "gamma2 = butter_bandpass_filter(t, 200, 400, fs_ds)"
      ],
      "execution_count": null,
      "outputs": []
    },
    {
      "cell_type": "code",
      "metadata": {
        "colab": {
          "base_uri": "https://localhost:8080/"
        },
        "id": "Jda2bp_mUQ50",
        "outputId": "862ad19d-120b-428b-9d2f-f6297c9a3268"
      },
      "source": [
        "#Get delta phase (From https://www.gaussianwaves.com/2017/04/extract-envelope-instantaneous-phase-frequency-hilbert-transform/)\r\n",
        "z= hilbert(delta) #form the analytical signal\r\n",
        "inst_amplitude = np.abs(z) #envelope extraction\r\n",
        "delta_phase = np.unwrap(np.angle(z))#inst phase\r\n",
        "delta_phase.shape"
      ],
      "execution_count": null,
      "outputs": [
        {
          "output_type": "execute_result",
          "data": {
            "text/plain": [
              "(64, 116750)"
            ]
          },
          "metadata": {
            "tags": []
          },
          "execution_count": 7
        }
      ]
    },
    {
      "cell_type": "code",
      "metadata": {
        "id": "CGaFGInkUQ8K"
      },
      "source": [
        "#Get gamma power\r\n",
        "gamma1_power = np.square(gamma1)\r\n",
        "gamma2_power = np.square(gamma2)"
      ],
      "execution_count": null,
      "outputs": []
    },
    {
      "cell_type": "code",
      "metadata": {
        "colab": {
          "base_uri": "https://localhost:8080/"
        },
        "id": "XxKsVj8Vbnr8",
        "outputId": "8c71ab96-01d1-4ebd-a26d-ac049b81cb20"
      },
      "source": [
        "gamma1_power.shape"
      ],
      "execution_count": null,
      "outputs": [
        {
          "output_type": "execute_result",
          "data": {
            "text/plain": [
              "(64, 116750)"
            ]
          },
          "metadata": {
            "tags": []
          },
          "execution_count": 9
        }
      ]
    },
    {
      "cell_type": "code",
      "metadata": {
        "id": "YixTcWiJUQ_G"
      },
      "source": [
        "#Sort gamma power based on delta phase\r\n",
        "from scipy.stats import binned_statistic\r\n",
        "num_channels = 64\r\n",
        "for i in range(num_channels):\r\n",
        "  statistics, bin_edges, bin_number = binned_statistic(delta_phase[i, :], gamma1_power[i,:], statistic='mean', bins=20, range=(-np.pi, np.pi))\r\n"
      ],
      "execution_count": null,
      "outputs": []
    },
    {
      "cell_type": "code",
      "metadata": {
        "id": "dDDeE0L0lvV7"
      },
      "source": [
        ""
      ],
      "execution_count": null,
      "outputs": []
    },
    {
      "cell_type": "code",
      "metadata": {
        "id": "NuMpVaPVlvYV"
      },
      "source": [
        ""
      ],
      "execution_count": null,
      "outputs": []
    },
    {
      "cell_type": "code",
      "metadata": {
        "id": "gDHK_sG1lvaM"
      },
      "source": [
        ""
      ],
      "execution_count": null,
      "outputs": []
    },
    {
      "cell_type": "code",
      "metadata": {
        "id": "xAQMXq81_UwK"
      },
      "source": [
        ""
      ],
      "execution_count": null,
      "outputs": []
    },
    {
      "cell_type": "code",
      "metadata": {
        "id": "B2a6MkFOYWaY"
      },
      "source": [
        ""
      ],
      "execution_count": null,
      "outputs": []
    },
    {
      "cell_type": "markdown",
      "metadata": {
        "id": "cYrFiNqAvizL"
      },
      "source": [
        "## Power Spectral Density (PSD)"
      ]
    },
    {
      "cell_type": "code",
      "metadata": {
        "id": "HZ3Ozab_vh8Z"
      },
      "source": [
        ""
      ],
      "execution_count": null,
      "outputs": []
    },
    {
      "cell_type": "markdown",
      "metadata": {
        "id": "86QGqT-MvTJM"
      },
      "source": [
        ""
      ]
    },
    {
      "cell_type": "markdown",
      "metadata": {
        "id": "zIBY4hKeRV6x"
      },
      "source": [
        "## Temporal and Spatial Pearson Correlation\r\n",
        "Event temporal correlation was calculated as the mean Pearson correlation coefficient of population spiking vector between each pair of network event in the same MEA well across a single recording session. \r\n",
        "\r\n",
        "\r\n",
        "Event spatial correlation was calculated as the mean Pearson correlation coefficient between all pairs of 64 LFP channels during each 3 s network event.\r\n",
        "\r\n",
        "The shapes were defined as the LFP sequence of 12 \r\n",
        "temporal points before, and 12 temporal points after the peak of the spike, including the \r\n",
        "peak, totalizing 25 temporal points. (Maybe shouldn't be used here...)"
      ]
    },
    {
      "cell_type": "code",
      "metadata": {
        "id": "6SQIi_qPdRPc"
      },
      "source": [
        "#Separate out events for a certain channel\r\n",
        "def extract_events(well_id, channel_id, file, fs, fs_orig = fs_orig, event_start=-0.5, event_end=2.5):\r\n",
        "  events = []\r\n",
        "  lfp = np.array(file['LFP']).flatten()\r\n",
        "  spikes = np.array(file['spikes'])\r\n",
        "  spks = np.array(file[spikes[channel_id, well_id]]).flatten()\r\n",
        "  lfp_act = np.array(file[lfp[well_id]])[channel_id, :]\r\n",
        "  for spk in spks:\r\n",
        "    #print(int(spk*fs/fs_orig))\r\n",
        "    start = int(event_start * fs + int(spk*fs/fs_orig))\r\n",
        "    end = int(event_end * fs + int(spk*fs/fs_orig))\r\n",
        "    event = lfp_act[start:end]\r\n",
        "    events.append(event)\r\n",
        "  return events\r\n"
      ],
      "execution_count": null,
      "outputs": []
    },
    {
      "cell_type": "code",
      "metadata": {
        "id": "8I11mVLukD4N"
      },
      "source": [
        "for "
      ],
      "execution_count": null,
      "outputs": []
    },
    {
      "cell_type": "code",
      "metadata": {
        "id": "Q-LlIoDEdRjj"
      },
      "source": [
        "#temporal correlation\r\n",
        "all_temp_corrcoef = []\r\n",
        "num_wells = spike_avg.shape[2]\r\n",
        "num_channels = spike_avg.shape[1]\r\n",
        "for i in range(num_wells):\r\n",
        "  #spk_all_channels = [event for j in range(num_channels) for event in extract_events(i, j, file, fs_ds) if len(event)==3000 ]\r\n",
        "  spk_all_channels = [np.means(extract_events())]\r\n",
        "  spk_all_channels = np.vstack(spk_all_channels)\r\n",
        "  temp_corrcoef = np.corrcoef(spk_all_channels, rowvar=True)\r\n",
        "  all_temp_corrcoef.append(temp_corrcoef)\r\n",
        "final_temp_corrcoef = np.mean(all_temp_corrcoef)"
      ],
      "execution_count": null,
      "outputs": []
    },
    {
      "cell_type": "code",
      "metadata": {
        "id": "zmvzAXtYHc_Y"
      },
      "source": [
        "#spatial correlation\r\n",
        "num_wells = spike_avg.shape[2]\r\n",
        "num_channels = spike_avg.shape[1]\r\n",
        "all_sp_corrcoef = []\r\n",
        "for j in range(num_wells):\r\n",
        "  event_lfps = []\r\n",
        "  for i in range(num_channels):\r\n",
        "    events = []\r\n",
        "  sp_corrcoef = np.corrcoef(, rowvar=True)\r\n",
        "  all_sp_corrcoef.append(sp_corrcoef)\r\n",
        "final_sp_corrcoef = np.mean(all_sp_corrcoef)"
      ],
      "execution_count": null,
      "outputs": []
    },
    {
      "cell_type": "code",
      "metadata": {
        "id": "LRr-W7oIgL7z"
      },
      "source": [
        ""
      ],
      "execution_count": null,
      "outputs": []
    },
    {
      "cell_type": "code",
      "metadata": {
        "colab": {
          "base_uri": "https://localhost:8080/",
          "height": 164
        },
        "id": "wNMu1EUZ36kZ",
        "outputId": "3b4a7bfc-c356-4692-9468-16bd00b41aec"
      },
      "source": [
        "final_temp_corrcoef, final_sp_corrcoef"
      ],
      "execution_count": null,
      "outputs": [
        {
          "output_type": "error",
          "ename": "NameError",
          "evalue": "ignored",
          "traceback": [
            "\u001b[0;31m---------------------------------------------------------------------------\u001b[0m",
            "\u001b[0;31mNameError\u001b[0m                                 Traceback (most recent call last)",
            "\u001b[0;32m<ipython-input-10-46c2e8397c96>\u001b[0m in \u001b[0;36m<module>\u001b[0;34m()\u001b[0m\n\u001b[0;32m----> 1\u001b[0;31m \u001b[0mfinal_temp_corrcoef\u001b[0m\u001b[0;34m,\u001b[0m \u001b[0mfinal_sp_corrcoef\u001b[0m\u001b[0;34m\u001b[0m\u001b[0;34m\u001b[0m\u001b[0m\n\u001b[0m",
            "\u001b[0;31mNameError\u001b[0m: name 'final_temp_corrcoef' is not defined"
          ]
        }
      ]
    }
  ]
}