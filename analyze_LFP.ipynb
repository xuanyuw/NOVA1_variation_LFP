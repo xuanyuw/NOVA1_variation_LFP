{
  "nbformat": 4,
  "nbformat_minor": 0,
  "metadata": {
    "colab": {
      "name": "analyze_LFP.ipynb",
      "provenance": [],
      "collapsed_sections": [
        "S75FxF3ntGGg",
        "wDw8G0K7bvmf",
        "IAK0VP858ftD",
        "Eatl_RTbYX23",
        "NwRB8z41MFdI",
        "welQYrT-LgLs",
        "zIBY4hKeRV6x"
      ],
      "include_colab_link": true
    },
    "kernelspec": {
      "display_name": "Python 3",
      "name": "python3"
    }
  },
  "cells": [
    {
      "cell_type": "markdown",
      "metadata": {
        "id": "view-in-github",
        "colab_type": "text"
      },
      "source": [
        "<a href=\"https://colab.research.google.com/github/xuanyuw/NOVA1_variation_LFP/blob/main/analyze_LFP.ipynb\" target=\"_parent\"><img src=\"https://colab.research.google.com/assets/colab-badge.svg\" alt=\"Open In Colab\"/></a>"
      ]
    },
    {
      "cell_type": "code",
      "metadata": {
        "colab": {
          "base_uri": "https://localhost:8080/"
        },
        "id": "bo0y4FEigGns",
        "outputId": "f0528ab4-6daf-419a-9c52-9d095b2317d4"
      },
      "source": [
        "from google.colab import drive\n",
        "drive.mount('/content/drive/')"
      ],
      "execution_count": 2,
      "outputs": [
        {
          "output_type": "stream",
          "text": [
            "Mounted at /content/drive/\n"
          ],
          "name": "stdout"
        }
      ]
    },
    {
      "cell_type": "code",
      "metadata": {
        "id": "pzHHKVphhqPR"
      },
      "source": [
        "from scipy.io import loadmat\r\n",
        "import glob\r\n",
        "import h5py\r\n",
        "import numpy as np\r\n",
        "import matplotlib.pyplot as plt"
      ],
      "execution_count": 3,
      "outputs": []
    },
    {
      "cell_type": "code",
      "metadata": {
        "id": "45AWmi66bhK7"
      },
      "source": [
        "nova_fns = sorted([mat for mat in glob.glob('/content/drive/My Drive/NOVA1_LFP/NOVA1/44-136_LFP/*.mat')])\r\n",
        "ctc_fns = ['/content/drive/My Drive/NOVA1_LFP/CTC/'+ fn for fn in ['LFP_Sp_010617.mat', 'LFP_Sp_011317.mat', 'LFP_Sp_012717.mat', 'LFP_Sp_022417.mat']]\r\n",
        "nova_files = [h5py.File(fn, 'r') for fn in nova_fns]\r\n",
        "ctc_files = [h5py.File(fn, 'r') for fn in ctc_fns]"
      ],
      "execution_count": 4,
      "outputs": []
    },
    {
      "cell_type": "code",
      "metadata": {
        "colab": {
          "base_uri": "https://localhost:8080/"
        },
        "id": "l-h-a3GG8mkX",
        "outputId": "1511eb4f-4d68-4507-803d-badc38133998"
      },
      "source": [
        "nova_fns"
      ],
      "execution_count": 5,
      "outputs": [
        {
          "output_type": "execute_result",
          "data": {
            "text/plain": [
              "['/content/drive/My Drive/NOVA1_LFP/NOVA1/44-136_LFP/LFP_Sp_012119.mat',\n",
              " '/content/drive/My Drive/NOVA1_LFP/NOVA1/44-136_LFP/LFP_Sp_013019.mat',\n",
              " '/content/drive/My Drive/NOVA1_LFP/NOVA1/44-136_LFP/LFP_Sp_021219.mat',\n",
              " '/content/drive/My Drive/NOVA1_LFP/NOVA1/44-136_LFP/LFP_Sp_031119.mat']"
            ]
          },
          "metadata": {
            "tags": []
          },
          "execution_count": 5
        }
      ]
    },
    {
      "cell_type": "code",
      "metadata": {
        "colab": {
          "base_uri": "https://localhost:8080/"
        },
        "id": "Had6iM_x8pZO",
        "outputId": "19f4271a-bfd1-4f27-8c34-fbf3fdeb8cb8"
      },
      "source": [
        "ctc_fns"
      ],
      "execution_count": 6,
      "outputs": [
        {
          "output_type": "execute_result",
          "data": {
            "text/plain": [
              "['/content/drive/My Drive/NOVA1_LFP/CTC/LFP_Sp_010617.mat',\n",
              " '/content/drive/My Drive/NOVA1_LFP/CTC/LFP_Sp_011317.mat',\n",
              " '/content/drive/My Drive/NOVA1_LFP/CTC/LFP_Sp_012717.mat',\n",
              " '/content/drive/My Drive/NOVA1_LFP/CTC/LFP_Sp_022417.mat']"
            ]
          },
          "metadata": {
            "tags": []
          },
          "execution_count": 6
        }
      ]
    },
    {
      "cell_type": "code",
      "metadata": {
        "id": "7LCXTd7e-5je"
      },
      "source": [
        "fs_orig = 12500\n",
        "num_channels = 64\n",
        "num_wells = 12\n",
        "#fn = '/content/drive/My Drive/NOVA1_LFP/NOVA1/44-136_LFP/LFP_Sp_013019.mat'\n",
        "# file = h5py.File(fn, 'r')\n",
        "# lfp = np.array(file['LFP']).flatten()\n",
        "# fs_ds = np.array(file['fs_ds'])[0]\n",
        "#spike_avg = np.array(file['spike_avg'])\n",
        "#spikes = np.array(file['spikes'])\n",
        "#spike_cnt = np.array(file['spike_cnt'])\n"
      ],
      "execution_count": 7,
      "outputs": []
    },
    {
      "cell_type": "markdown",
      "metadata": {
        "id": "S75FxF3ntGGg"
      },
      "source": [
        "## Spiking rate (Done)"
      ]
    },
    {
      "cell_type": "code",
      "metadata": {
        "id": "K-EW-7LZ56HR"
      },
      "source": [
        "def calc_spk_rate(file):\r\n",
        "  total_spks = np.array(file['spike_cnt']).max()\r\n",
        "  total_time = max(file['t_s'][0])\r\n",
        "  return total_spks/total_time\r\n",
        "\r\n",
        "sr_nova = [calc_spk_rate(file) for file in nova_files]\r\n",
        "sr_ctc = [calc_spk_rate(file) for file in ctc_files]"
      ],
      "execution_count": null,
      "outputs": []
    },
    {
      "cell_type": "code",
      "metadata": {
        "colab": {
          "base_uri": "https://localhost:8080/"
        },
        "id": "SGsnHF2R8HzP",
        "outputId": "9af509d5-4fa6-4b77-e9ae-92794fff923a"
      },
      "source": [
        "sr_nova"
      ],
      "execution_count": null,
      "outputs": [
        {
          "output_type": "execute_result",
          "data": {
            "text/plain": [
              "[8.879671979937806, 11.374740128301587, 13.046837706595133, 16.493082102197054]"
            ]
          },
          "metadata": {
            "tags": []
          },
          "execution_count": 15
        }
      ]
    },
    {
      "cell_type": "code",
      "metadata": {
        "colab": {
          "base_uri": "https://localhost:8080/",
          "height": 297
        },
        "id": "iTtN6er276QH",
        "outputId": "114e5c8d-23a1-4f77-bcf7-37b571e4dbc1"
      },
      "source": [
        "plt.plot(sr_nova, label='nova1')\r\n",
        "plt.plot(sr_ctc, label='wild')\r\n",
        "plt.xticks(labels=['Week0','Week1','Week3','Week7'], ticks=range(4))\r\n",
        "plt.legend(loc='best')\r\n",
        "plt.title('Spiking rate of nova1 variant and wild type')"
      ],
      "execution_count": null,
      "outputs": [
        {
          "output_type": "execute_result",
          "data": {
            "text/plain": [
              "Text(0.5, 1.0, 'Spiking rate of nova1 variant and wild type')"
            ]
          },
          "metadata": {
            "tags": []
          },
          "execution_count": 16
        },
        {
          "output_type": "display_data",
          "data": {
            "image/png": "[encoded data removed]",
            "text/plain": [
              "<Figure size 432x288 with 1 Axes>"
            ]
          },
          "metadata": {
            "tags": []
          }
        }
      ]
    },
    {
      "cell_type": "markdown",
      "metadata": {
        "id": "wDw8G0K7bvmf"
      },
      "source": [
        "## Inter-spike interval distribution (Done)"
      ]
    },
    {
      "cell_type": "code",
      "metadata": {
        "id": "VQQd5PsCb0yo"
      },
      "source": [
        "\r\n",
        "def calculate_isi(file, fs_orig=fs_orig, num_channels=num_channels, num_wells=num_wells):\r\n",
        "  all_isi = []\r\n",
        "  spikes = np.array(file['spikes'])\r\n",
        "  for i in range(num_wells):\r\n",
        "    isi = []\r\n",
        "    for j in range(num_channels):\r\n",
        "      spks = np.array(file[spikes[j, i]]).flatten()\r\n",
        "      isi.append(np.diff(spks).flatten())\r\n",
        "    if len(isi)>0:\r\n",
        "      isi = np.hstack(isi)\r\n",
        "      all_isi.append(isi)\r\n",
        "  \r\n",
        "  return np.hstack(all_isi)\r\n",
        "\r\n",
        "nova_isi = [calculate_isi(file) for file in nova_files]\r\n",
        "ctc_isi = [calculate_isi(file) for file in ctc_files]"
      ],
      "execution_count": null,
      "outputs": []
    },
    {
      "cell_type": "code",
      "metadata": {
        "colab": {
          "base_uri": "https://localhost:8080/",
          "height": 311
        },
        "id": "Yj4iAqNLb00z",
        "outputId": "881f3470-70a1-496c-c109-0c3486d75934"
      },
      "source": [
        "plt.hist(np.hstack(nova_isi),bins=100)\r\n",
        "plt.title('Distribution of inter-spike interval of nova1 variant samples')\r\n",
        "plt.xlabel('ISI')\r\n",
        "plt.ylabel('Count')"
      ],
      "execution_count": null,
      "outputs": [
        {
          "output_type": "execute_result",
          "data": {
            "text/plain": [
              "Text(0, 0.5, 'Count')"
            ]
          },
          "metadata": {
            "tags": []
          },
          "execution_count": 23
        },
        {
          "output_type": "display_data",
          "data": {
            "image/png": "[encoded data removed]",
            "text/plain": [
              "<Figure size 432x288 with 1 Axes>"
            ]
          },
          "metadata": {
            "tags": []
          }
        }
      ]
    },
    {
      "cell_type": "code",
      "metadata": {
        "colab": {
          "base_uri": "https://localhost:8080/",
          "height": 311
        },
        "id": "S27mYMYVfdKh",
        "outputId": "5c970bf9-2686-4a92-f412-a1f521af34f0"
      },
      "source": [
        "plt.hist(np.hstack(ctc_isi),bins=100)\r\n",
        "plt.title('Distribution of inter-spike interval of wild type samples')\r\n",
        "plt.xlabel('ISI')\r\n",
        "plt.ylabel('Count')"
      ],
      "execution_count": null,
      "outputs": [
        {
          "output_type": "execute_result",
          "data": {
            "text/plain": [
              "Text(0, 0.5, 'Count')"
            ]
          },
          "metadata": {
            "tags": []
          },
          "execution_count": 24
        },
        {
          "output_type": "display_data",
          "data": {
            "image/png": "[encoded data removed]",
            "text/plain": [
              "<Figure size 432x288 with 1 Axes>"
            ]
          },
          "metadata": {
            "tags": []
          }
        }
      ]
    },
    {
      "cell_type": "code",
      "metadata": {
        "id": "oUSdHEP2b042"
      },
      "source": [
        "nova_isi_mean = np.mean(np.hstack(nova_isi))\r\n",
        "ctc_isi_mean = np.mean(np.hstack(ctc_isi))\r\n",
        "nova_isi_std = np.std(np.hstack(nova_isi))\r\n",
        "ctc_isi_std = np.std(np.hstack(ctc_isi))"
      ],
      "execution_count": null,
      "outputs": []
    },
    {
      "cell_type": "code",
      "metadata": {
        "colab": {
          "base_uri": "https://localhost:8080/"
        },
        "id": "IOM7rxtMb07f",
        "outputId": "98b66f22-9156-48c6-af7a-b722b7e359e6"
      },
      "source": [
        "print('nova1 mean = %f, std = %f' %(nova_isi_mean, nova_isi_std))\r\n",
        "print('wild mean = %f, std = %f' %(ctc_isi_mean, ctc_isi_std))"
      ],
      "execution_count": null,
      "outputs": [
        {
          "output_type": "stream",
          "text": [
            "nova1 mean = 8724.939584, std = 43344.913255\n",
            "wild mean = 743.545699, std = 9962.695587\n"
          ],
          "name": "stdout"
        }
      ]
    },
    {
      "cell_type": "markdown",
      "metadata": {
        "id": "IAK0VP858ftD"
      },
      "source": [
        "## CV (quantify network complexity)(Done)\r\n",
        "\r\n",
        "The inter-event interval coefficient of variation (IEI CV) was calculated as the standard deviation of the inter-event interval divided by its mean, where IEI is the time\r\n",
        "between consecutive network events within the same MEA well."
      ]
    },
    {
      "cell_type": "code",
      "metadata": {
        "id": "aEirtVoipone",
        "colab": {
          "base_uri": "https://localhost:8080/"
        },
        "outputId": "fb0cd477-8ba0-4d43-aaf7-55cab990e475"
      },
      "source": [
        "def extract_events(well_id, channel_id, file, fs_orig = fs_orig, event_start=-0.5, event_end=2.5):\r\n",
        "  events_t0 = []\r\n",
        "  fs = np.array(file['fs_ds'])[0][0]\r\n",
        "  event_len = int(fs*(abs(event_start)+abs(event_end)))\r\n",
        "  spikes = np.array(file['spikes'])\r\n",
        "  spks = np.array(file[spikes[channel_id, well_id]]).flatten()\r\n",
        "  spks = (spks*fs/fs_orig).astype('int') #convert index according to down-sampled sampling rate\r\n",
        "  prev = spks[:-2]\r\n",
        "  post = spks[2:] \r\n",
        "  diff = post - prev\r\n",
        "  events_freq = prev[diff<event_len]\r\n",
        "  freq_prev = events_freq[:-1]\r\n",
        "  freq_post = events_freq[1:]\r\n",
        "  dist = freq_post - freq_prev\r\n",
        "  t0_index = dist>(event_end+1)*fs\r\n",
        "  if sum(t0_index) > 0:\r\n",
        "    events_t0 = np.insert(freq_post[t0_index], 0, freq_prev[0])\r\n",
        "  return events_t0\r\n",
        "\r\n",
        "def calculate_iei_cv(file, fs_orig=fs_orig, num_channels=num_channels, num_wells=num_wells):\r\n",
        "  all_cv = []\r\n",
        "  for i in range(num_wells):\r\n",
        "    iei = []\r\n",
        "    #print(i)\r\n",
        "    for j in range(num_channels):\r\n",
        "      events_t0 = extract_events(i, j, file)\r\n",
        "      iei.append(np.diff(events_t0).flatten())\r\n",
        "    if len(iei)>0:\r\n",
        "      iei = np.hstack(iei)\r\n",
        "      iei = iei/fs_orig\r\n",
        "      iei_mean = np.nanmean(iei)\r\n",
        "      iei_std = np.nanstd(iei)\r\n",
        "      all_cv.append(iei_std/iei_mean)\r\n",
        "    else:\r\n",
        "      all_cv.append(np.nan)\r\n",
        "  return all_cv\r\n",
        "\r\n",
        "nova_cv = [calculate_iei_cv(file) for file in nova_files]\r\n",
        "ctc_cv = [calculate_iei_cv(file) for file in ctc_files]"
      ],
      "execution_count": 46,
      "outputs": [
        {
          "output_type": "stream",
          "text": [
            "/usr/local/lib/python3.7/dist-packages/ipykernel_launcher.py:34: RuntimeWarning: Mean of empty slice\n",
            "/usr/local/lib/python3.7/dist-packages/numpy/lib/nanfunctions.py:1665: RuntimeWarning: Degrees of freedom <= 0 for slice.\n",
            "  keepdims=keepdims)\n",
            "/usr/local/lib/python3.7/dist-packages/ipykernel_launcher.py:34: RuntimeWarning: Mean of empty slice\n",
            "/usr/local/lib/python3.7/dist-packages/numpy/lib/nanfunctions.py:1665: RuntimeWarning: Degrees of freedom <= 0 for slice.\n",
            "  keepdims=keepdims)\n"
          ],
          "name": "stderr"
        }
      ]
    },
    {
      "cell_type": "code",
      "metadata": {
        "colab": {
          "base_uri": "https://localhost:8080/"
        },
        "id": "URYlMFw6pSJN",
        "outputId": "eae6c41a-ee69-4c91-c329-4d19b79b7ced"
      },
      "source": [
        "nova_mean_cv = [np.nanmean(cv) for cv in nova_cv]\r\n",
        "ctc_mean_cv = [np.nanmean(cv) for cv in ctc_cv]\r\n",
        "print(nova_mean_cv)\r\n",
        "print(ctc_mean_cv)\r\n",
        "print(np.array(ctc_mean_cv) - np.array(nova_mean_cv))"
      ],
      "execution_count": 47,
      "outputs": [
        {
          "output_type": "stream",
          "text": [
            "[0.8777461350692072, 0.6367350196092066, 0.7323224381637359, 0.664680766521586]\n",
            "[0.49906268754821803, 0.5952324721664751, 0.6059996824771107, 0.5486879825222946]\n",
            "[-0.37868345 -0.04150255 -0.12632276 -0.11599278]\n"
          ],
          "name": "stdout"
        }
      ]
    },
    {
      "cell_type": "code",
      "metadata": {
        "colab": {
          "base_uri": "https://localhost:8080/",
          "height": 0
        },
        "id": "aQaSOCFInld0",
        "outputId": "a8991cb2-a7fe-4af1-ebe1-8a536581f1d1"
      },
      "source": [
        "plt.plot(nova_mean_cv, label='nova1')\r\n",
        "plt.plot(ctc_mean_cv, label='wild')\r\n",
        "#plt.plot(np.array(ctc_mean_cv) - np.array(nova_mean_cv), label='difference')\r\n",
        "plt.xticks(labels=['Week0','Week1','Week3','Week7'], ticks=range(4))\r\n",
        "plt.legend(loc='best')\r\n",
        "plt.title('mean CV of nova1 variant and wild type')\r\n",
        "plt.ylim([0.4, 1])"
      ],
      "execution_count": 51,
      "outputs": [
        {
          "output_type": "execute_result",
          "data": {
            "text/plain": [
              "(0.4, 1.0)"
            ]
          },
          "metadata": {
            "tags": []
          },
          "execution_count": 51
        },
        {
          "output_type": "display_data",
          "data": {
            "image/png": "[encoded data removed]",
            "text/plain": [
              "<Figure size 864x216 with 1 Axes>"
            ]
          },
          "metadata": {
            "tags": [],
            "needs_background": "light"
          }
        }
      ]
    },
    {
      "cell_type": "code",
      "metadata": {
        "colab": {
          "base_uri": "https://localhost:8080/"
        },
        "id": "XFi21Fv8tGmM",
        "outputId": "e81d6d08-975e-4cf7-aece-695faecaf4be"
      },
      "source": [
        "import statistics\r\n",
        "nova_median_cv = [statistics.median(np.array(cv)[~np.isnan(cv)]) for cv in nova_cv]\r\n",
        "ctc_median_cv = [statistics.median(np.array(cv)[~np.isnan(cv)]) for cv in ctc_cv]\r\n",
        "print(nova_median_cv)\r\n",
        "print(ctc_median_cv)\r\n",
        "print(np.array(ctc_median_cv) - np.array(nova_median_cv))"
      ],
      "execution_count": 50,
      "outputs": [
        {
          "output_type": "stream",
          "text": [
            "[0.8966441096229855, 0.6026151548900075, 0.7648832912122434, 0.7169757224429186]\n",
            "[0.5175450553596397, 0.6398449531193454, 0.5798928957222348, 0.5291061470711726]\n",
            "[-0.37909905  0.0372298  -0.1849904  -0.18786958]\n"
          ],
          "name": "stdout"
        }
      ]
    },
    {
      "cell_type": "code",
      "metadata": {
        "colab": {
          "base_uri": "https://localhost:8080/",
          "height": 0
        },
        "id": "hRA2SPaBsYrU",
        "outputId": "4780853e-715e-4df6-876a-5388907268f6"
      },
      "source": [
        "plt.plot(nova_median_cv, label='nova1')\r\n",
        "plt.plot(ctc_median_cv, label='wild')\r\n",
        "#plt.plot(np.array(ctc_median_cv) - np.array(nova_median_cv), label='difference')\r\n",
        "plt.xticks(labels=['Week0','Week1','Week3','Week7'], ticks=range(4))\r\n",
        "plt.legend(loc='best')\r\n",
        "plt.title('median CV of nova1 variant and wild type')\r\n",
        "plt.ylim([0.4, 1])"
      ],
      "execution_count": 52,
      "outputs": [
        {
          "output_type": "execute_result",
          "data": {
            "text/plain": [
              "(0.4, 1.0)"
            ]
          },
          "metadata": {
            "tags": []
          },
          "execution_count": 52
        },
        {
          "output_type": "display_data",
          "data": {
            "image/png": "[encoded data removed]",
            "text/plain": [
              "<Figure size 864x216 with 1 Axes>"
            ]
          },
          "metadata": {
            "tags": [],
            "needs_background": "light"
          }
        }
      ]
    },
    {
      "cell_type": "markdown",
      "metadata": {
        "id": "Eatl_RTbYX23"
      },
      "source": [
        "## LFP Trace ?"
      ]
    },
    {
      "cell_type": "code",
      "metadata": {
        "colab": {
          "base_uri": "https://localhost:8080/",
          "height": 0
        },
        "id": "EYCj4nMVbVkH",
        "outputId": "25052e67-a708-4119-a753-f855af531ba3"
      },
      "source": [
        "file = nova_files[0]\r\n",
        "event_start = -0.5\r\n",
        "event_end = 2.5\r\n",
        "fs = np.array(file['fs_ds'])[0]\r\n",
        "# i=0\r\n",
        "# j=1\r\n",
        "well_avg_events = []\r\n",
        "event_len = int(fs*(abs(event_start)+abs(event_end)))\r\n",
        "for i in range(num_wells):\r\n",
        "  print(i)\r\n",
        "  num_events = 0\r\n",
        "  well_events = np.zeros(event_len)\r\n",
        "  for j in range(num_channels):\r\n",
        "    events_t0 = extract_events(i, j, file)\r\n",
        "    lfp = np.array(file[np.array(file['LFP']).flatten()[i]])[j, :]\r\n",
        "    if len(events_t0)!=0:\r\n",
        "      #print(i, j)\r\n",
        "      for t0 in events_t0:\r\n",
        "        event = lfp[int(t0+event_start*fs):int(t0+event_end*fs)]\r\n",
        "        if len(event)==event_len:\r\n",
        "          well_events = np.add(well_events, event)\r\n",
        "          num_events += 1\r\n",
        "  well_avg_events.append(well_events/num_events)"
      ],
      "execution_count": 47,
      "outputs": [
        {
          "output_type": "stream",
          "text": [
            "0\n"
          ],
          "name": "stdout"
        },
        {
          "output_type": "error",
          "ename": "KeyboardInterrupt",
          "evalue": "ignored",
          "traceback": [
            "\u001b[0;31m---------------------------------------------------------------------------\u001b[0m",
            "\u001b[0;31mKeyboardInterrupt\u001b[0m                         Traceback (most recent call last)",
            "\u001b[0;32m<ipython-input-47-63217c78744d>\u001b[0m in \u001b[0;36m<module>\u001b[0;34m()\u001b[0m\n\u001b[1;32m     13\u001b[0m   \u001b[0;32mfor\u001b[0m \u001b[0mj\u001b[0m \u001b[0;32min\u001b[0m \u001b[0mrange\u001b[0m\u001b[0;34m(\u001b[0m\u001b[0mnum_channels\u001b[0m\u001b[0;34m)\u001b[0m\u001b[0;34m:\u001b[0m\u001b[0;34m\u001b[0m\u001b[0;34m\u001b[0m\u001b[0m\n\u001b[1;32m     14\u001b[0m     \u001b[0mevents_t0\u001b[0m \u001b[0;34m=\u001b[0m \u001b[0mextract_events\u001b[0m\u001b[0;34m(\u001b[0m\u001b[0mi\u001b[0m\u001b[0;34m,\u001b[0m \u001b[0mj\u001b[0m\u001b[0;34m,\u001b[0m \u001b[0mfile\u001b[0m\u001b[0;34m)\u001b[0m\u001b[0;34m\u001b[0m\u001b[0;34m\u001b[0m\u001b[0m\n\u001b[0;32m---> 15\u001b[0;31m     \u001b[0mlfp\u001b[0m \u001b[0;34m=\u001b[0m \u001b[0mnp\u001b[0m\u001b[0;34m.\u001b[0m\u001b[0marray\u001b[0m\u001b[0;34m(\u001b[0m\u001b[0mfile\u001b[0m\u001b[0;34m[\u001b[0m\u001b[0mnp\u001b[0m\u001b[0;34m.\u001b[0m\u001b[0marray\u001b[0m\u001b[0;34m(\u001b[0m\u001b[0mfile\u001b[0m\u001b[0;34m[\u001b[0m\u001b[0;34m'LFP'\u001b[0m\u001b[0;34m]\u001b[0m\u001b[0;34m)\u001b[0m\u001b[0;34m.\u001b[0m\u001b[0mflatten\u001b[0m\u001b[0;34m(\u001b[0m\u001b[0;34m)\u001b[0m\u001b[0;34m[\u001b[0m\u001b[0mi\u001b[0m\u001b[0;34m]\u001b[0m\u001b[0;34m]\u001b[0m\u001b[0;34m)\u001b[0m\u001b[0;34m[\u001b[0m\u001b[0mj\u001b[0m\u001b[0;34m,\u001b[0m \u001b[0;34m:\u001b[0m\u001b[0;34m]\u001b[0m\u001b[0;34m\u001b[0m\u001b[0;34m\u001b[0m\u001b[0m\n\u001b[0m\u001b[1;32m     16\u001b[0m     \u001b[0;32mif\u001b[0m \u001b[0mlen\u001b[0m\u001b[0;34m(\u001b[0m\u001b[0mevents_t0\u001b[0m\u001b[0;34m)\u001b[0m\u001b[0;34m!=\u001b[0m\u001b[0;36m0\u001b[0m\u001b[0;34m:\u001b[0m\u001b[0;34m\u001b[0m\u001b[0;34m\u001b[0m\u001b[0m\n\u001b[1;32m     17\u001b[0m       \u001b[0;31m#print(i, j)\u001b[0m\u001b[0;34m\u001b[0m\u001b[0;34m\u001b[0m\u001b[0;34m\u001b[0m\u001b[0m\n",
            "\u001b[0;32mh5py/_objects.pyx\u001b[0m in \u001b[0;36mh5py._objects.with_phil.wrapper\u001b[0;34m()\u001b[0m\n",
            "\u001b[0;32mh5py/_objects.pyx\u001b[0m in \u001b[0;36mh5py._objects.with_phil.wrapper\u001b[0;34m()\u001b[0m\n",
            "\u001b[0;32m/usr/local/lib/python3.7/dist-packages/h5py/_hl/dataset.py\u001b[0m in \u001b[0;36m__array__\u001b[0;34m(self, dtype)\u001b[0m\n\u001b[1;32m    770\u001b[0m             \u001b[0;32mreturn\u001b[0m \u001b[0marr\u001b[0m\u001b[0;34m\u001b[0m\u001b[0;34m\u001b[0m\u001b[0m\n\u001b[1;32m    771\u001b[0m \u001b[0;34m\u001b[0m\u001b[0m\n\u001b[0;32m--> 772\u001b[0;31m         \u001b[0mself\u001b[0m\u001b[0;34m.\u001b[0m\u001b[0mread_direct\u001b[0m\u001b[0;34m(\u001b[0m\u001b[0marr\u001b[0m\u001b[0;34m)\u001b[0m\u001b[0;34m\u001b[0m\u001b[0;34m\u001b[0m\u001b[0m\n\u001b[0m\u001b[1;32m    773\u001b[0m         \u001b[0;32mreturn\u001b[0m \u001b[0marr\u001b[0m\u001b[0;34m\u001b[0m\u001b[0;34m\u001b[0m\u001b[0m\n\u001b[1;32m    774\u001b[0m \u001b[0;34m\u001b[0m\u001b[0m\n",
            "\u001b[0;32m/usr/local/lib/python3.7/dist-packages/h5py/_hl/dataset.py\u001b[0m in \u001b[0;36mread_direct\u001b[0;34m(self, dest, source_sel, dest_sel)\u001b[0m\n\u001b[1;32m    731\u001b[0m \u001b[0;34m\u001b[0m\u001b[0m\n\u001b[1;32m    732\u001b[0m             \u001b[0;32mfor\u001b[0m \u001b[0mmspace\u001b[0m \u001b[0;32min\u001b[0m \u001b[0mdest_sel\u001b[0m\u001b[0;34m.\u001b[0m\u001b[0mbroadcast\u001b[0m\u001b[0;34m(\u001b[0m\u001b[0msource_sel\u001b[0m\u001b[0;34m.\u001b[0m\u001b[0mmshape\u001b[0m\u001b[0;34m)\u001b[0m\u001b[0;34m:\u001b[0m\u001b[0;34m\u001b[0m\u001b[0;34m\u001b[0m\u001b[0m\n\u001b[0;32m--> 733\u001b[0;31m                 \u001b[0mself\u001b[0m\u001b[0;34m.\u001b[0m\u001b[0mid\u001b[0m\u001b[0;34m.\u001b[0m\u001b[0mread\u001b[0m\u001b[0;34m(\u001b[0m\u001b[0mmspace\u001b[0m\u001b[0;34m,\u001b[0m \u001b[0mfspace\u001b[0m\u001b[0;34m,\u001b[0m \u001b[0mdest\u001b[0m\u001b[0;34m,\u001b[0m \u001b[0mdxpl\u001b[0m\u001b[0;34m=\u001b[0m\u001b[0mself\u001b[0m\u001b[0;34m.\u001b[0m\u001b[0m_dxpl\u001b[0m\u001b[0;34m)\u001b[0m\u001b[0;34m\u001b[0m\u001b[0;34m\u001b[0m\u001b[0m\n\u001b[0m\u001b[1;32m    734\u001b[0m \u001b[0;34m\u001b[0m\u001b[0m\n\u001b[1;32m    735\u001b[0m     \u001b[0;32mdef\u001b[0m \u001b[0mwrite_direct\u001b[0m\u001b[0;34m(\u001b[0m\u001b[0mself\u001b[0m\u001b[0;34m,\u001b[0m \u001b[0msource\u001b[0m\u001b[0;34m,\u001b[0m \u001b[0msource_sel\u001b[0m\u001b[0;34m=\u001b[0m\u001b[0;32mNone\u001b[0m\u001b[0;34m,\u001b[0m \u001b[0mdest_sel\u001b[0m\u001b[0;34m=\u001b[0m\u001b[0;32mNone\u001b[0m\u001b[0;34m)\u001b[0m\u001b[0;34m:\u001b[0m\u001b[0;34m\u001b[0m\u001b[0;34m\u001b[0m\u001b[0m\n",
            "\u001b[0;31mKeyboardInterrupt\u001b[0m: "
          ]
        }
      ]
    },
    {
      "cell_type": "code",
      "metadata": {
        "colab": {
          "base_uri": "https://localhost:8080/"
        },
        "id": "ajLyVbE_J4fS",
        "outputId": "fbddf22e-eaf3-473d-a803-49cdeb528f18"
      },
      "source": [
        "events_t0"
      ],
      "execution_count": null,
      "outputs": [
        {
          "output_type": "execute_result",
          "data": {
            "text/plain": [
              "[]"
            ]
          },
          "metadata": {
            "tags": []
          },
          "execution_count": 16
        }
      ]
    },
    {
      "cell_type": "markdown",
      "metadata": {
        "id": "_bqolILuHIp_"
      },
      "source": [
        "## LFP Amplitude?"
      ]
    },
    {
      "cell_type": "markdown",
      "metadata": {
        "id": "NwRB8z41MFdI"
      },
      "source": [
        "## Spike field coherence (Done)"
      ]
    },
    {
      "cell_type": "code",
      "metadata": {
        "id": "RiB0SNicIwPB"
      },
      "source": [
        "def extract_events(well_id, channel_id, file, fs_orig = fs_orig, event_start=-0.5, event_end=2.5):\r\n",
        "  events_t0 = []\r\n",
        "  fs = np.array(file['fs_ds'])[0][0]\r\n",
        "  event_len = int(fs*(abs(event_start)+abs(event_end)))\r\n",
        "  spikes = np.array(file['spikes'])\r\n",
        "  spks = np.array(file[spikes[channel_id, well_id]]).flatten()\r\n",
        "  spks = (spks*fs/fs_orig).astype('int') #convert index according to down-sampled sampling rate\r\n",
        "  prev = spks[:-2]\r\n",
        "  post = spks[2:] \r\n",
        "  diff = post - prev\r\n",
        "  events_freq = prev[diff<event_len]\r\n",
        "  freq_prev = events_freq[:-1]\r\n",
        "  freq_post = events_freq[1:]\r\n",
        "  dist = freq_post - freq_prev\r\n",
        "  t0_index = dist>(event_end+1)*fs\r\n",
        "  if sum(t0_index) > 0:\r\n",
        "    events_t0 = np.insert(freq_post[t0_index], 0, freq_prev[0])\r\n",
        "  return events_t0"
      ],
      "execution_count": 8,
      "outputs": []
    },
    {
      "cell_type": "code",
      "metadata": {
        "id": "THCK1G1cDyN6"
      },
      "source": [
        "import scipy.io as sio\r\n",
        "from pylab import *\r\n",
        "\r\n",
        "\r\n",
        "def extract_lfp_seg(lfp, events_t0, fs, event_len, event_start, event_end):\r\n",
        "  all_start = np.array(events_t0).astype('int') + int(event_start*fs)\r\n",
        "  all_end = np.array(events_t0).astype('int') + int(event_end*fs)\r\n",
        "  lfp_events = np.vstack([lfp[all_start[i]:all_end[i]] for i in range(len(events_t0)) if len(lfp[all_start[i]:all_end[i]])==event_len])\r\n",
        "  return lfp_events\r\n",
        "\r\n",
        "def extract_spks_seg(spks, fs, num_events, event_len, event_start, event_end):\r\n",
        "  spks_events = np.zeros((num_events, event_len))\r\n",
        "  for i in range(num_events):\r\n",
        "    shifted_spks = spks - i + int(event_start*fs)\r\n",
        "    shifted_spks = shifted_spks[np.logical_and(shifted_spks>=0, shifted_spks<=int(event_end*fs))]\r\n",
        "    spks_events[i, shifted_spks] = 1\r\n",
        "  return spks_events\r\n",
        "  \r\n",
        "def calculate_sfc(well_id, channel_id, file, fs_orig = fs_orig, event_start=-0.5, event_end=2.5):\r\n",
        "  # https://mark-kramer.github.io/Case-Studies-Python/11.html\r\n",
        "  fs = np.array(file['fs_ds'])[0][0]\r\n",
        "  events_t0 = extract_events(well_id, channel_id, file)\r\n",
        "  N = int(fs*(abs(event_start)+abs(event_end))) \r\n",
        "  if len(events_t0)>0:\r\n",
        "    event_len = int(fs*(abs(event_start)+abs(event_end)))\r\n",
        "    lfp = np.array(file[np.array(file['LFP']).flatten()[well_id]])[channel_id, :]\r\n",
        "    lfp_events = extract_lfp_seg(lfp, events_t0, fs, event_len, event_start, event_end)\r\n",
        "    num_events = lfp_events.shape[0]\r\n",
        "\r\n",
        "    spikes = np.array(file['spikes'])\r\n",
        "    spks = np.array(file[spikes[channel_id, well_id]]).flatten()\r\n",
        "    spks = (spks*fs/fs_orig).astype('int')\r\n",
        "    spks_events = extract_spks_seg(spks, fs, num_events, event_len, event_start, event_end)\r\n",
        "\r\n",
        "    t = np.array(file['t_ds'])[0]                       \r\n",
        "    K = num_events                                                                  \r\n",
        "    dt = t[1]-t[0]                                     \r\n",
        "    SYY = zeros(int(N/2+1))                      # Variable to store field spectrum.\r\n",
        "    SNN = zeros(int(N/2+1))                      # Variable to store spike spectrum.\r\n",
        "    SYN = zeros(int(N/2+1), dtype=complex)              # Variable to store cross spectrum.\r\n",
        "\r\n",
        "    for k in arange(K):                                 # For each trial,\r\n",
        "        yf = rfft((lfp_events[k,:]-mean(lfp_events[k,:])) *hanning(N))    # Hanning taper the field,\r\n",
        "        nf = rfft((spks_events[k,:]-mean(spks_events[k,:])))                # ... but do not taper the spikes.\r\n",
        "        SYY = SYY + (real(yf*conj(yf)))/K           # Field spectrum\r\n",
        "        SNN = SNN + (real(nf*conj(nf)))/K           # Spike spectrum\r\n",
        "        SYN = SYN + (yf*conj(nf))/K        # Cross spectrum\r\n",
        "    cohr = real(SYN*conj(SYN)) / SYY / SNN              # Spike-field coherence\r\n",
        "    return cohr\r\n",
        "  return zeros(int(N/2+1))\r\n",
        "\r\n",
        "def mean_well_sfc(file):\r\n",
        "  all_sfc = []\r\n",
        "  for well_id in range(num_wells):\r\n",
        "    well_sfc = []\r\n",
        "    for channel_id in range(num_channels):\r\n",
        "      cohr = calculate_lfp(well_id, channel_id, file)\r\n",
        "      well_sfc.append(cohr)\r\n",
        "    all_sfc.append(np.nanmean(well_sfc))\r\n",
        "  return all_sfc"
      ],
      "execution_count": 9,
      "outputs": []
    },
    {
      "cell_type": "code",
      "metadata": {
        "colab": {
          "base_uri": "https://localhost:8080/"
        },
        "id": "Fhg91ikkK3N6",
        "outputId": "e9984ede-850a-4c34-e140-16371a5671a4"
      },
      "source": [
        "from tqdm import tqdm\r\n",
        "rerun_sfc = 0\r\n",
        "if rerun_sfc:\r\n",
        "  nova_sfc = []\r\n",
        "  print('Calculating sfc of NOVA1 variant samples...')\r\n",
        "  for file in tqdm(nova_files):\r\n",
        "    nova_sfc.append(mean_well_sfc(file))\r\n",
        "\r\n",
        "  ctc_sfc = []\r\n",
        "  print('Calculating sfc of wild type samples...')\r\n",
        "  for file in tqdm(ctc_files):\r\n",
        "    ctc_sfc.append(mean_well_sfc(file))\r\n",
        "    \r\n",
        "  with open('/content/drive/My Drive/NOVA1_LFP/nova_sfc.txt', 'w') as filehandle:\r\n",
        "    filehandle.writelines(\"%s\\n\" % sfc for sfc in nova_sfc)\r\n",
        "\r\n",
        "  with open('/content/drive/My Drive/NOVA1_LFP/ctc_sfc.txt', 'w') as filehandle:\r\n",
        "    filehandle.writelines(\"%s\\n\" % sfc for sfc in ctc_sfc)"
      ],
      "execution_count": 10,
      "outputs": [
        {
          "output_type": "stream",
          "text": [
            "\r  0%|          | 0/4 [00:00<?, ?it/s]"
          ],
          "name": "stderr"
        },
        {
          "output_type": "stream",
          "text": [
            "Calculating lfp of NOVA1 variant samples...\n"
          ],
          "name": "stdout"
        },
        {
          "output_type": "stream",
          "text": [
            "/usr/local/lib/python3.7/dist-packages/ipykernel_launcher.py:48: RuntimeWarning: invalid value encountered in true_divide\n",
            "100%|██████████| 4/4 [07:26<00:00, 111.60s/it]\n",
            "  0%|          | 0/4 [00:00<?, ?it/s]"
          ],
          "name": "stderr"
        },
        {
          "output_type": "stream",
          "text": [
            "Calculating lfp of wild type samples...\n"
          ],
          "name": "stdout"
        },
        {
          "output_type": "stream",
          "text": [
            "100%|██████████| 4/4 [30:10<00:00, 452.64s/it]\n"
          ],
          "name": "stderr"
        }
      ]
    },
    {
      "cell_type": "code",
      "metadata": {
        "id": "yeTILeiwlKyj"
      },
      "source": [
        "import re\r\n",
        "if not rerun_sfc:\r\n",
        "  p = re.compile(r'\\d+\\.\\d+')  # Compile a pattern to capture float values\r\n",
        "  nova_sfc = []\r\n",
        "  with open('/content/drive/My Drive/NOVA1_LFP/nova_sfc.txt', 'r') as filehandle:\r\n",
        "    for line in filehandle.readlines():\r\n",
        "      nova_sfc.append([float(i) for i in p.findall(line)])\r\n",
        "\r\n",
        "  ctc_sfc = []\r\n",
        "  with open('/content/drive/My Drive/NOVA1_LFP/ctc_sfc.txt', 'r') as filehandle:\r\n",
        "    for line in filehandle.readlines():\r\n",
        "      ctc_sfc.append([float(i) for i in p.findall(line)])"
      ],
      "execution_count": 39,
      "outputs": []
    },
    {
      "cell_type": "code",
      "metadata": {
        "colab": {
          "base_uri": "https://localhost:8080/",
          "height": 385
        },
        "id": "u4HiPtUnMKY6",
        "outputId": "10a59973-0575-4237-a794-f84d1da2bc32"
      },
      "source": [
        "ticks = ['Week0','Week1','Week3','Week7']\r\n",
        "def set_box_color(bp, color):\r\n",
        "    plt.setp(bp['boxes'], color=color)\r\n",
        "    plt.setp(bp['whiskers'], color=color)\r\n",
        "    plt.setp(bp['caps'], color=color)\r\n",
        "    plt.setp(bp['medians'], color=color)\r\n",
        "\r\n",
        "nova_sfc = [list(np.array(sfc)[np.nonzero(sfc)[0]]) for sfc in nova_sfc]\r\n",
        "ctc_sfc = [list(np.array(sfc)[np.nonzero(sfc)[0]]) for sfc in ctc_sfc]\r\n",
        "\r\n",
        "plt.figure()\r\n",
        "bpl = plt.boxplot(nova_sfc, positions=np.array(range(len(nova_sfc)))*2.0-0.4, sym='', widths=0.6)\r\n",
        "bpr = plt.boxplot(ctc_sfc, positions=np.array(range(len(ctc_sfc)))*2.0+0.4, sym='', widths=0.6)\r\n",
        "set_box_color(bpl, '#D7191C') # colors are from http://colorbrewer2.org/\r\n",
        "set_box_color(bpr, '#2C7BB6')\r\n",
        "\r\n",
        "# draw temporary red and blue lines and use them to create a legend\r\n",
        "plt.plot([], c='#D7191C', label='NOVA1')\r\n",
        "plt.plot([], c='#2C7BB6', label='Wild Type')\r\n",
        "plt.legend()\r\n",
        "\r\n",
        "plt.xticks(range(0, len(ticks) * 2, 2), ticks)\r\n",
        "plt.xlim(-2, len(ticks)*2)\r\n",
        "plt.tight_layout()\r\n",
        "plt.title('Distribution of Average Spike Field Coherence of Each Well at Each Week')"
      ],
      "execution_count": 40,
      "outputs": [
        {
          "output_type": "stream",
          "text": [
            "/usr/local/lib/python3.7/dist-packages/numpy/core/_asarray.py:83: VisibleDeprecationWarning: Creating an ndarray from ragged nested sequences (which is a list-or-tuple of lists-or-tuples-or ndarrays with different lengths or shapes) is deprecated. If you meant to do this, you must specify 'dtype=object' when creating the ndarray\n",
            "  return array(a, dtype, copy=False, order=order)\n"
          ],
          "name": "stderr"
        },
        {
          "output_type": "execute_result",
          "data": {
            "text/plain": [
              "Text(0.5, 1.0, 'Distribution of Average Spike Field Coherence of Each Well at Each Week')"
            ]
          },
          "metadata": {
            "tags": []
          },
          "execution_count": 40
        },
        {
          "output_type": "display_data",
          "data": {
            "image/png": "[encoded data removed]",
            "text/plain": [
              "<Figure size 432x288 with 1 Axes>"
            ]
          },
          "metadata": {
            "tags": [],
            "needs_background": "light"
          }
        }
      ]
    },
    {
      "cell_type": "markdown",
      "metadata": {
        "id": "welQYrT-LgLs"
      },
      "source": [
        "## PAC \r\n",
        "\r\n",
        "1. LFP data from all 64 channels of each well was first lowpass/bandpass filtered (eegfilt.m, EEGLAB) for delta (0-4 Hz) and high-frequency, broadband (100-400 Hz) activity\r\n",
        "\r\n",
        "2. Delta phase was extracted by taking the phase\r\n",
        "angle of the bandpassed delta signal Hilbert transform (hilbert.m, angle.m), while gamma power was extracted by taking the squared\r\n",
        "magnitude of the filtered gamma.\r\n",
        "\r\n",
        "3. Analysis was performed for 100-200 Hz and 200-400 Hz separately\r\n",
        "\r\n",
        "4. instantaneous delta phase was binned into 20 equidistant bins between -pi and pi,\r\n",
        "and gamma power was sorted based on the corresponding delta phase at the same sample time and averaged across the same\r\n",
        "phase bin\r\n",
        "\r\n",
        "5. This procedure was performed separately for event and non-event indices\r\n",
        "\r\n",
        "6. Modulation Index was\r\n",
        "computed as the Kullback-Leibler divergence between the sum-normalized distribution of gamma power across phase bins and a\r\n",
        "uniform distribution\r\n"
      ]
    },
    {
      "cell_type": "code",
      "metadata": {
        "id": "c7tW5Y2B3vI_"
      },
      "source": [
        ""
      ],
      "execution_count": null,
      "outputs": []
    },
    {
      "cell_type": "code",
      "metadata": {
        "colab": {
          "base_uri": "https://localhost:8080/",
          "height": 197
        },
        "id": "nNxN-FoO2Svt",
        "outputId": "42fbff1d-9c20-437e-80c2-3b9cac23d602"
      },
      "source": [
        "file=ctc_files[0]\r\n",
        "lfp = np.array(file['LFP']).flatten()\r\n",
        "events = extract_events(10,0,ctc_files[0])\r\n",
        "range(len(np.array(file[lfp[0]]))) not in events"
      ],
      "execution_count": null,
      "outputs": [
        {
          "output_type": "error",
          "ename": "ValueError",
          "evalue": "ignored",
          "traceback": [
            "\u001b[0;31m---------------------------------------------------------------------------\u001b[0m",
            "\u001b[0;31mValueError\u001b[0m                                Traceback (most recent call last)",
            "\u001b[0;32m<ipython-input-15-a5fa87dc7fc6>\u001b[0m in \u001b[0;36m<module>\u001b[0;34m()\u001b[0m\n\u001b[1;32m      2\u001b[0m \u001b[0mlfp\u001b[0m \u001b[0;34m=\u001b[0m \u001b[0mnp\u001b[0m\u001b[0;34m.\u001b[0m\u001b[0marray\u001b[0m\u001b[0;34m(\u001b[0m\u001b[0mfile\u001b[0m\u001b[0;34m[\u001b[0m\u001b[0;34m'LFP'\u001b[0m\u001b[0;34m]\u001b[0m\u001b[0;34m)\u001b[0m\u001b[0;34m.\u001b[0m\u001b[0mflatten\u001b[0m\u001b[0;34m(\u001b[0m\u001b[0;34m)\u001b[0m\u001b[0;34m\u001b[0m\u001b[0;34m\u001b[0m\u001b[0m\n\u001b[1;32m      3\u001b[0m \u001b[0mevents\u001b[0m \u001b[0;34m=\u001b[0m \u001b[0mextract_events\u001b[0m\u001b[0;34m(\u001b[0m\u001b[0;36m10\u001b[0m\u001b[0;34m,\u001b[0m\u001b[0;36m0\u001b[0m\u001b[0;34m,\u001b[0m\u001b[0mctc_files\u001b[0m\u001b[0;34m[\u001b[0m\u001b[0;36m0\u001b[0m\u001b[0;34m]\u001b[0m\u001b[0;34m)\u001b[0m\u001b[0;34m\u001b[0m\u001b[0;34m\u001b[0m\u001b[0m\n\u001b[0;32m----> 4\u001b[0;31m \u001b[0mrange\u001b[0m\u001b[0;34m(\u001b[0m\u001b[0mlen\u001b[0m\u001b[0;34m(\u001b[0m\u001b[0mnp\u001b[0m\u001b[0;34m.\u001b[0m\u001b[0marray\u001b[0m\u001b[0;34m(\u001b[0m\u001b[0mfile\u001b[0m\u001b[0;34m[\u001b[0m\u001b[0mlfp\u001b[0m\u001b[0;34m[\u001b[0m\u001b[0;36m0\u001b[0m\u001b[0;34m]\u001b[0m\u001b[0;34m]\u001b[0m\u001b[0;34m)\u001b[0m\u001b[0;34m)\u001b[0m\u001b[0;34m)\u001b[0m \u001b[0;32mnot\u001b[0m \u001b[0;32min\u001b[0m \u001b[0mevents\u001b[0m\u001b[0;34m\u001b[0m\u001b[0;34m\u001b[0m\u001b[0m\n\u001b[0m",
            "\u001b[0;31mValueError\u001b[0m: The truth value of an array with more than one element is ambiguous. Use a.any() or a.all()"
          ]
        }
      ]
    },
    {
      "cell_type": "code",
      "metadata": {
        "id": "BA9L3row2y72"
      },
      "source": [
        "file=ctc_files[0]\r\n",
        "spikes = np.array(file['spikes'])\r\n",
        "np.array(file[spikes[0, 10]]).flatten()"
      ],
      "execution_count": null,
      "outputs": []
    },
    {
      "cell_type": "code",
      "metadata": {
        "id": "TB6iFI0s8jpJ"
      },
      "source": [
        "# define bandpass filters borrowed from UCSD COGS189WI21 A1 starter code\r\n",
        "from scipy.signal import butter, sosfiltfilt, sosfreqz, hilbert\r\n",
        "def butter_bandpass(lowcut, highcut, fs, order = 2):\r\n",
        "  nyq = 0.5 * fs\r\n",
        "  low = lowcut/nyq\r\n",
        "  high = highcut/nyq\r\n",
        "  sos = butter(order, [low, high], analog=False, btype='band', output='sos')\r\n",
        "  return sos\r\n",
        "def butter_bandpass_filter(data, lowcut, highcut, fs, order=2):\r\n",
        "  sos = butter_bandpass(lowcut, highcut, fs, order=order)\r\n",
        "  y = sosfiltfilt(sos, data)\r\n",
        "  return y\r\n"
      ],
      "execution_count": null,
      "outputs": []
    },
    {
      "cell_type": "code",
      "metadata": {
        "id": "FuEVCHcn8jtR"
      },
      "source": [
        "# bandpass all 64 channels to get delta and gamma\r\n",
        "t = np.array(file[lfp[0]])\r\n",
        "delta = butter_bandpass_filter(t, 0.1, 4, fs_ds)\r\n",
        "gamma1 = butter_bandpass_filter(t, 100, 200, fs_ds)\r\n",
        "gamma2 = butter_bandpass_filter(t, 200, 400, fs_ds)"
      ],
      "execution_count": null,
      "outputs": []
    },
    {
      "cell_type": "code",
      "metadata": {
        "id": "Jda2bp_mUQ50"
      },
      "source": [
        "#Get delta phase (From https://www.gaussianwaves.com/2017/04/extract-envelope-instantaneous-phase-frequency-hilbert-transform/)\r\n",
        "z= hilbert(delta) #form the analytical signal\r\n",
        "inst_amplitude = np.abs(z) #envelope extraction\r\n",
        "delta_phase = np.unwrap(np.angle(z))#inst phase\r\n",
        "delta_phase.shape"
      ],
      "execution_count": null,
      "outputs": []
    },
    {
      "cell_type": "code",
      "metadata": {
        "id": "CGaFGInkUQ8K"
      },
      "source": [
        "#Get gamma power\r\n",
        "gamma1_power = np.square(gamma1)\r\n",
        "gamma2_power = np.square(gamma2)"
      ],
      "execution_count": null,
      "outputs": []
    },
    {
      "cell_type": "code",
      "metadata": {
        "id": "XxKsVj8Vbnr8"
      },
      "source": [
        "gamma1_power.shape"
      ],
      "execution_count": null,
      "outputs": []
    },
    {
      "cell_type": "code",
      "metadata": {
        "id": "YixTcWiJUQ_G"
      },
      "source": [
        "#Sort gamma power based on delta phase\r\n",
        "from scipy.stats import binned_statistic\r\n",
        "num_channels = 64\r\n",
        "for i in range(num_channels):\r\n",
        "  statistics, bin_edges, bin_number = binned_statistic(delta_phase[i, :], gamma1_power[i,:], statistic='mean', bins=20, range=(-np.pi, np.pi))\r\n"
      ],
      "execution_count": null,
      "outputs": []
    },
    {
      "cell_type": "code",
      "metadata": {
        "id": "dDDeE0L0lvV7"
      },
      "source": [
        ""
      ],
      "execution_count": null,
      "outputs": []
    },
    {
      "cell_type": "code",
      "metadata": {
        "id": "NuMpVaPVlvYV"
      },
      "source": [
        ""
      ],
      "execution_count": null,
      "outputs": []
    },
    {
      "cell_type": "code",
      "metadata": {
        "id": "gDHK_sG1lvaM"
      },
      "source": [
        ""
      ],
      "execution_count": null,
      "outputs": []
    },
    {
      "cell_type": "code",
      "metadata": {
        "id": "xAQMXq81_UwK"
      },
      "source": [
        ""
      ],
      "execution_count": null,
      "outputs": []
    },
    {
      "cell_type": "code",
      "metadata": {
        "id": "B2a6MkFOYWaY"
      },
      "source": [
        ""
      ],
      "execution_count": null,
      "outputs": []
    },
    {
      "cell_type": "markdown",
      "metadata": {
        "id": "zIBY4hKeRV6x"
      },
      "source": [
        "## Temporal and Spatial Pearson Correlation\r\n",
        "Event temporal correlation was calculated as the mean Pearson correlation coefficient of population spiking vector between each pair of network event in the same MEA well across a single recording session. \r\n",
        "\r\n",
        "\r\n",
        "Event spatial correlation was calculated as the mean Pearson correlation coefficient between all pairs of 64 LFP channels during each 3 s network event.\r\n",
        "\r\n",
        "The shapes were defined as the LFP sequence of 12 \r\n",
        "temporal points before, and 12 temporal points after the peak of the spike, including the \r\n",
        "peak, totalizing 25 temporal points. (Maybe shouldn't be used here...)"
      ]
    },
    {
      "cell_type": "code",
      "metadata": {
        "id": "6SQIi_qPdRPc"
      },
      "source": [
        "#Separate out events for a certain channel\r\n",
        "def extract_events(well_id, channel_id, file, fs, fs_orig = fs_orig, event_start=-0.5, event_end=2.5):\r\n",
        "  events = []\r\n",
        "  lfp = np.array(file['LFP']).flatten()\r\n",
        "  spikes = np.array(file['spikes'])\r\n",
        "  spks = np.array(file[spikes[channel_id, well_id]]).flatten()\r\n",
        "  lfp_act = np.array(file[lfp[well_id]])[channel_id, :]\r\n",
        "  for spk in spks:\r\n",
        "    #print(int(spk*fs/fs_orig))\r\n",
        "    start = int(event_start * fs + int(spk*fs/fs_orig))\r\n",
        "    end = int(event_end * fs + int(spk*fs/fs_orig))\r\n",
        "    event = lfp_act[start:end]\r\n",
        "    events.append(event)\r\n",
        "  return events\r\n"
      ],
      "execution_count": null,
      "outputs": []
    },
    {
      "cell_type": "code",
      "metadata": {
        "id": "8I11mVLukD4N"
      },
      "source": [
        "for "
      ],
      "execution_count": null,
      "outputs": []
    },
    {
      "cell_type": "code",
      "metadata": {
        "id": "Q-LlIoDEdRjj"
      },
      "source": [
        "#temporal correlation\r\n",
        "all_temp_corrcoef = []\r\n",
        "num_wells = spike_avg.shape[2]\r\n",
        "num_channels = spike_avg.shape[1]\r\n",
        "for i in range(num_wells):\r\n",
        "  #spk_all_channels = [event for j in range(num_channels) for event in extract_events(i, j, file, fs_ds) if len(event)==3000 ]\r\n",
        "  spk_all_channels = [np.means(extract_events())]\r\n",
        "  spk_all_channels = np.vstack(spk_all_channels)\r\n",
        "  temp_corrcoef = np.corrcoef(spk_all_channels, rowvar=True)\r\n",
        "  all_temp_corrcoef.append(temp_corrcoef)\r\n",
        "final_temp_corrcoef = np.mean(all_temp_corrcoef)"
      ],
      "execution_count": null,
      "outputs": []
    },
    {
      "cell_type": "code",
      "metadata": {
        "id": "zmvzAXtYHc_Y"
      },
      "source": [
        "#spatial correlation\r\n",
        "num_wells = spike_avg.shape[2]\r\n",
        "num_channels = spike_avg.shape[1]\r\n",
        "all_sp_corrcoef = []\r\n",
        "for j in range(num_wells):\r\n",
        "  event_lfps = []\r\n",
        "  for i in range(num_channels):\r\n",
        "    events = []\r\n",
        "  sp_corrcoef = np.corrcoef(, rowvar=True)\r\n",
        "  all_sp_corrcoef.append(sp_corrcoef)\r\n",
        "final_sp_corrcoef = np.mean(all_sp_corrcoef)"
      ],
      "execution_count": null,
      "outputs": []
    },
    {
      "cell_type": "code",
      "metadata": {
        "id": "LRr-W7oIgL7z"
      },
      "source": [
        ""
      ],
      "execution_count": null,
      "outputs": []
    },
    {
      "cell_type": "code",
      "metadata": {
        "colab": {
          "base_uri": "https://localhost:8080/",
          "height": 164
        },
        "id": "wNMu1EUZ36kZ",
        "outputId": "3b4a7bfc-c356-4692-9468-16bd00b41aec"
      },
      "source": [
        "final_temp_corrcoef, final_sp_corrcoef"
      ],
      "execution_count": null,
      "outputs": [
        {
          "output_type": "error",
          "ename": "NameError",
          "evalue": "ignored",
          "traceback": [
            "\u001b[0;31m---------------------------------------------------------------------------\u001b[0m",
            "\u001b[0;31mNameError\u001b[0m                                 Traceback (most recent call last)",
            "\u001b[0;32m<ipython-input-10-46c2e8397c96>\u001b[0m in \u001b[0;36m<module>\u001b[0;34m()\u001b[0m\n\u001b[0;32m----> 1\u001b[0;31m \u001b[0mfinal_temp_corrcoef\u001b[0m\u001b[0;34m,\u001b[0m \u001b[0mfinal_sp_corrcoef\u001b[0m\u001b[0;34m\u001b[0m\u001b[0;34m\u001b[0m\u001b[0m\n\u001b[0m",
            "\u001b[0;31mNameError\u001b[0m: name 'final_temp_corrcoef' is not defined"
          ]
        }
      ]
    }
  ]
}